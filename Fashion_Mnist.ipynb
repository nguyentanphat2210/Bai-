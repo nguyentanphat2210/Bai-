{
  "nbformat": 4,
  "nbformat_minor": 0,
  "metadata": {
    "colab": {
      "name": "Fashion_Mnist.ipynb",
      "provenance": [],
      "include_colab_link": true
    },
    "kernelspec": {
      "name": "python3",
      "display_name": "Python 3"
    },
    "language_info": {
      "name": "python"
    }
  },
  "cells": [
    {
      "cell_type": "markdown",
      "metadata": {
        "id": "view-in-github",
        "colab_type": "text"
      },
      "source": [
        "<a href=\"https://colab.research.google.com/github/nguyentanphat2210/Bai-/blob/fashion_nist/Fashion_Mnist.ipynb\" target=\"_parent\"><img src=\"https://colab.research.google.com/assets/colab-badge.svg\" alt=\"Open In Colab\"/></a>"
      ]
    },
    {
      "cell_type": "code",
      "execution_count": null,
      "metadata": {
        "id": "rd1rnIcEmvyy"
      },
      "outputs": [],
      "source": [
        "#import thư viện\n",
        "import numpy as np #thư viện xử lý ma trận\n",
        "from keras.utils import np_utils # thư viện xử lý chuyển class\n",
        "from keras.datasets import fashion_mnist # gọi tập dataset thời trang\n",
        "from keras.models import Sequential # hàm chạy mô hình\n",
        "from keras.layers import Dense, Dropout # tạo mạng nơ ron\n",
        "from tensorflow.keras.optimizers import RMSprop \n",
        "import matplotlib.pyplot as plt  # thư viện dùng để vẽ"
      ]
    },
    {
      "cell_type": "code",
      "source": [
        "# chia tập dữ liệu thành 2 bộ train và test\n",
        "(x_train, y_train),(x_test,y_test) = fashion_mnist.load_data()\n"
      ],
      "metadata": {
        "colab": {
          "base_uri": "https://localhost:8080/"
        },
        "id": "B3GtphU2m0aW",
        "outputId": "f75a1782-4e0b-4df9-f74f-3df6a04e00d2"
      },
      "execution_count": null,
      "outputs": [
        {
          "output_type": "stream",
          "name": "stdout",
          "text": [
            "Downloading data from https://storage.googleapis.com/tensorflow/tf-keras-datasets/train-labels-idx1-ubyte.gz\n",
            "32768/29515 [=================================] - 0s 0us/step\n",
            "40960/29515 [=========================================] - 0s 0us/step\n",
            "Downloading data from https://storage.googleapis.com/tensorflow/tf-keras-datasets/train-images-idx3-ubyte.gz\n",
            "26427392/26421880 [==============================] - 0s 0us/step\n",
            "26435584/26421880 [==============================] - 0s 0us/step\n",
            "Downloading data from https://storage.googleapis.com/tensorflow/tf-keras-datasets/t10k-labels-idx1-ubyte.gz\n",
            "16384/5148 [===============================================================================================] - 0s 0us/step\n",
            "Downloading data from https://storage.googleapis.com/tensorflow/tf-keras-datasets/t10k-images-idx3-ubyte.gz\n",
            "4423680/4422102 [==============================] - 0s 0us/step\n",
            "4431872/4422102 [==============================] - 0s 0us/step\n"
          ]
        }
      ]
    },
    {
      "cell_type": "code",
      "source": [
        "# xem kích thược của tập dữ liệu\n",
        "print('Kích thước x_train: ', x_train.shape)\n",
        "print('Kích thước y_train: ', y_train.shape)\n",
        "print('Kích thước x_test: ', x_test.shape)\n",
        "print('Kích thước y_test: ', y_test.shape)"
      ],
      "metadata": {
        "colab": {
          "base_uri": "https://localhost:8080/"
        },
        "id": "e0Vf-LkPm--q",
        "outputId": "a9adb5d7-6191-40ff-9604-cb8d93539ec7"
      },
      "execution_count": null,
      "outputs": [
        {
          "output_type": "stream",
          "name": "stdout",
          "text": [
            "Kích thước x_train:  (60000, 28, 28)\n",
            "Kích thước y_train:  (60000,)\n",
            "Kích thước x_test:  (10000, 28, 28)\n",
            "Kích thước y_test:  (10000,)\n"
          ]
        }
      ]
    },
    {
      "cell_type": "code",
      "source": [
        "#chuyển chiều của x từ 3 chiều về 2 chiều\n",
        "x_train = x_train.reshape(60000,784)\n",
        "x_test = x_test.reshape(10000,784)\n",
        "# ép kiểu\n",
        "x_train = x_train.astype('float32')\n",
        "x_test = x_test.astype('float32')\n",
        "#chuẩn hóa dữ liệu\n",
        "x_train /=255\n",
        "x_test /=255\n",
        "#chuyển y từ 1 class thành 10 class\n",
        "y_train = np_utils.to_categorical(y_train,10)\n",
        "y_test = np_utils.to_categorical(y_test,10)"
      ],
      "metadata": {
        "id": "20htAt23nDtR"
      },
      "execution_count": null,
      "outputs": []
    },
    {
      "cell_type": "code",
      "source": [
        "#tạo mạng nơ-ron\n",
        "model = Sequential()\n",
        "model.add(Dense(512,activation='relu',input_shape=(784,)))\n",
        "model.add(Dropout(0.2))\n",
        "model.add(Dense(512,activation='relu'))\n",
        "model.add(Dropout(0.2))\n",
        "model.add(Dense(10,activation='softmax'))\n",
        "model.summary()"
      ],
      "metadata": {
        "colab": {
          "base_uri": "https://localhost:8080/"
        },
        "id": "4KvwWCepnFLj",
        "outputId": "c9a4ed10-072d-4c75-e993-fe1d86a27b83"
      },
      "execution_count": null,
      "outputs": [
        {
          "output_type": "stream",
          "name": "stdout",
          "text": [
            "Model: \"sequential\"\n",
            "_________________________________________________________________\n",
            " Layer (type)                Output Shape              Param #   \n",
            "=================================================================\n",
            " dense (Dense)               (None, 512)               401920    \n",
            "                                                                 \n",
            " dropout (Dropout)           (None, 512)               0         \n",
            "                                                                 \n",
            " dense_1 (Dense)             (None, 512)               262656    \n",
            "                                                                 \n",
            " dropout_1 (Dropout)         (None, 512)               0         \n",
            "                                                                 \n",
            " dense_2 (Dense)             (None, 10)                5130      \n",
            "                                                                 \n",
            "=================================================================\n",
            "Total params: 669,706\n",
            "Trainable params: 669,706\n",
            "Non-trainable params: 0\n",
            "_________________________________________________________________\n"
          ]
        }
      ]
    },
    {
      "cell_type": "code",
      "source": [
        "#chạy model với số lần học là 500 và độ kiên nhẫn là 100\n",
        "model.compile(loss='categorical_crossentropy',optimizer=RMSprop(), metrics=['accuracy'])\n",
        "model.compile(loss='categorical_crossentropy',optimizer=RMSprop(), metrics=['accuracy'])\n",
        "from keras.callbacks import EarlyStopping\n",
        "history = model.fit(x_train,y_train,batch_size=128,epochs=500,verbose=1,\n",
        "                    validation_split=0.2,callbacks=[EarlyStopping(monitor='val_loss',patience=100)])"
      ],
      "metadata": {
        "colab": {
          "base_uri": "https://localhost:8080/"
        },
        "id": "7pXZUrAbnHNY",
        "outputId": "fa8a45c4-0d62-4104-d5ae-d9da37e4fc89"
      },
      "execution_count": null,
      "outputs": [
        {
          "output_type": "stream",
          "name": "stdout",
          "text": [
            "Epoch 1/500\n",
            "375/375 [==============================] - 9s 21ms/step - loss: 0.5882 - accuracy: 0.7857 - val_loss: 0.4229 - val_accuracy: 0.8426\n",
            "Epoch 2/500\n",
            "375/375 [==============================] - 7s 17ms/step - loss: 0.4140 - accuracy: 0.8490 - val_loss: 0.4129 - val_accuracy: 0.8455\n",
            "Epoch 3/500\n",
            "375/375 [==============================] - 6s 17ms/step - loss: 0.3736 - accuracy: 0.8639 - val_loss: 0.3471 - val_accuracy: 0.8716\n",
            "Epoch 4/500\n",
            "375/375 [==============================] - 6s 17ms/step - loss: 0.3546 - accuracy: 0.8713 - val_loss: 0.3642 - val_accuracy: 0.8737\n",
            "Epoch 5/500\n",
            "375/375 [==============================] - 7s 17ms/step - loss: 0.3374 - accuracy: 0.8767 - val_loss: 0.3434 - val_accuracy: 0.8793\n",
            "Epoch 6/500\n",
            "375/375 [==============================] - 7s 18ms/step - loss: 0.3263 - accuracy: 0.8807 - val_loss: 0.3543 - val_accuracy: 0.8771\n",
            "Epoch 7/500\n",
            "375/375 [==============================] - 7s 19ms/step - loss: 0.3180 - accuracy: 0.8838 - val_loss: 0.3856 - val_accuracy: 0.8702\n",
            "Epoch 8/500\n",
            "375/375 [==============================] - 6s 17ms/step - loss: 0.3099 - accuracy: 0.8885 - val_loss: 0.3384 - val_accuracy: 0.8887\n",
            "Epoch 9/500\n",
            "375/375 [==============================] - 7s 17ms/step - loss: 0.3023 - accuracy: 0.8894 - val_loss: 0.3427 - val_accuracy: 0.8904\n",
            "Epoch 10/500\n",
            "375/375 [==============================] - 6s 17ms/step - loss: 0.2981 - accuracy: 0.8916 - val_loss: 0.3405 - val_accuracy: 0.8858\n",
            "Epoch 11/500\n",
            "375/375 [==============================] - 6s 17ms/step - loss: 0.2909 - accuracy: 0.8950 - val_loss: 0.3981 - val_accuracy: 0.8727\n",
            "Epoch 12/500\n",
            "375/375 [==============================] - 7s 18ms/step - loss: 0.2866 - accuracy: 0.8973 - val_loss: 0.3488 - val_accuracy: 0.8888\n",
            "Epoch 13/500\n",
            "375/375 [==============================] - 7s 17ms/step - loss: 0.2863 - accuracy: 0.8978 - val_loss: 0.3510 - val_accuracy: 0.8873\n",
            "Epoch 14/500\n",
            "375/375 [==============================] - 7s 17ms/step - loss: 0.2791 - accuracy: 0.8994 - val_loss: 0.3623 - val_accuracy: 0.8832\n",
            "Epoch 15/500\n",
            "375/375 [==============================] - 6s 17ms/step - loss: 0.2768 - accuracy: 0.9018 - val_loss: 0.3882 - val_accuracy: 0.8844\n",
            "Epoch 16/500\n",
            "375/375 [==============================] - 7s 18ms/step - loss: 0.2692 - accuracy: 0.9031 - val_loss: 0.3862 - val_accuracy: 0.8848\n",
            "Epoch 17/500\n",
            "375/375 [==============================] - 6s 17ms/step - loss: 0.2720 - accuracy: 0.9043 - val_loss: 0.4171 - val_accuracy: 0.8871\n",
            "Epoch 18/500\n",
            "375/375 [==============================] - 7s 17ms/step - loss: 0.2667 - accuracy: 0.9042 - val_loss: 0.3590 - val_accuracy: 0.8940\n",
            "Epoch 19/500\n",
            "375/375 [==============================] - 6s 17ms/step - loss: 0.2591 - accuracy: 0.9070 - val_loss: 0.3945 - val_accuracy: 0.8888\n",
            "Epoch 20/500\n",
            "375/375 [==============================] - 6s 17ms/step - loss: 0.2559 - accuracy: 0.9075 - val_loss: 0.3828 - val_accuracy: 0.8925\n",
            "Epoch 21/500\n",
            "375/375 [==============================] - 7s 17ms/step - loss: 0.2564 - accuracy: 0.9084 - val_loss: 0.3962 - val_accuracy: 0.8929\n",
            "Epoch 22/500\n",
            "375/375 [==============================] - 7s 17ms/step - loss: 0.2530 - accuracy: 0.9105 - val_loss: 0.4103 - val_accuracy: 0.8906\n",
            "Epoch 23/500\n",
            "375/375 [==============================] - 7s 18ms/step - loss: 0.2526 - accuracy: 0.9106 - val_loss: 0.4256 - val_accuracy: 0.8917\n",
            "Epoch 24/500\n",
            "375/375 [==============================] - 6s 17ms/step - loss: 0.2500 - accuracy: 0.9114 - val_loss: 0.4268 - val_accuracy: 0.8938\n",
            "Epoch 25/500\n",
            "375/375 [==============================] - 7s 17ms/step - loss: 0.2474 - accuracy: 0.9123 - val_loss: 0.4421 - val_accuracy: 0.8900\n",
            "Epoch 26/500\n",
            "375/375 [==============================] - 6s 17ms/step - loss: 0.2428 - accuracy: 0.9149 - val_loss: 0.4174 - val_accuracy: 0.8925\n",
            "Epoch 27/500\n",
            "375/375 [==============================] - 6s 17ms/step - loss: 0.2438 - accuracy: 0.9153 - val_loss: 0.4027 - val_accuracy: 0.8968\n",
            "Epoch 28/500\n",
            "375/375 [==============================] - 6s 17ms/step - loss: 0.2401 - accuracy: 0.9159 - val_loss: 0.4668 - val_accuracy: 0.8863\n",
            "Epoch 29/500\n",
            "375/375 [==============================] - 6s 17ms/step - loss: 0.2365 - accuracy: 0.9160 - val_loss: 0.4780 - val_accuracy: 0.8874\n",
            "Epoch 30/500\n",
            "375/375 [==============================] - 6s 17ms/step - loss: 0.2327 - accuracy: 0.9181 - val_loss: 0.4580 - val_accuracy: 0.8938\n",
            "Epoch 31/500\n",
            "375/375 [==============================] - 6s 17ms/step - loss: 0.2333 - accuracy: 0.9177 - val_loss: 0.4572 - val_accuracy: 0.8923\n",
            "Epoch 32/500\n",
            "375/375 [==============================] - 6s 17ms/step - loss: 0.2347 - accuracy: 0.9171 - val_loss: 0.4405 - val_accuracy: 0.8928\n",
            "Epoch 33/500\n",
            "375/375 [==============================] - 6s 17ms/step - loss: 0.2292 - accuracy: 0.9200 - val_loss: 0.4694 - val_accuracy: 0.8961\n",
            "Epoch 34/500\n",
            "375/375 [==============================] - 6s 17ms/step - loss: 0.2358 - accuracy: 0.9196 - val_loss: 0.5191 - val_accuracy: 0.8850\n",
            "Epoch 35/500\n",
            "375/375 [==============================] - 7s 17ms/step - loss: 0.2259 - accuracy: 0.9210 - val_loss: 0.5014 - val_accuracy: 0.8904\n",
            "Epoch 36/500\n",
            "375/375 [==============================] - 7s 17ms/step - loss: 0.2291 - accuracy: 0.9217 - val_loss: 0.5277 - val_accuracy: 0.8923\n",
            "Epoch 37/500\n",
            "375/375 [==============================] - 7s 18ms/step - loss: 0.2246 - accuracy: 0.9224 - val_loss: 0.4741 - val_accuracy: 0.8946\n",
            "Epoch 38/500\n",
            "375/375 [==============================] - 6s 17ms/step - loss: 0.2245 - accuracy: 0.9235 - val_loss: 0.4999 - val_accuracy: 0.8793\n",
            "Epoch 39/500\n",
            "375/375 [==============================] - 6s 17ms/step - loss: 0.2231 - accuracy: 0.9230 - val_loss: 0.5056 - val_accuracy: 0.8885\n",
            "Epoch 40/500\n",
            "375/375 [==============================] - 6s 17ms/step - loss: 0.2235 - accuracy: 0.9233 - val_loss: 0.5144 - val_accuracy: 0.8959\n",
            "Epoch 41/500\n",
            "375/375 [==============================] - 7s 17ms/step - loss: 0.2234 - accuracy: 0.9232 - val_loss: 0.5045 - val_accuracy: 0.8938\n",
            "Epoch 42/500\n",
            "375/375 [==============================] - 7s 17ms/step - loss: 0.2192 - accuracy: 0.9256 - val_loss: 0.4798 - val_accuracy: 0.8933\n",
            "Epoch 43/500\n",
            "375/375 [==============================] - 7s 18ms/step - loss: 0.2183 - accuracy: 0.9267 - val_loss: 0.5440 - val_accuracy: 0.8946\n",
            "Epoch 44/500\n",
            "375/375 [==============================] - 7s 18ms/step - loss: 0.2221 - accuracy: 0.9260 - val_loss: 0.5581 - val_accuracy: 0.8980\n",
            "Epoch 45/500\n",
            "375/375 [==============================] - 7s 18ms/step - loss: 0.2132 - accuracy: 0.9263 - val_loss: 0.5560 - val_accuracy: 0.8932\n",
            "Epoch 46/500\n",
            "375/375 [==============================] - 7s 18ms/step - loss: 0.2157 - accuracy: 0.9269 - val_loss: 0.5837 - val_accuracy: 0.8972\n",
            "Epoch 47/500\n",
            "375/375 [==============================] - 7s 17ms/step - loss: 0.2142 - accuracy: 0.9277 - val_loss: 0.5461 - val_accuracy: 0.8940\n",
            "Epoch 48/500\n",
            "375/375 [==============================] - 7s 17ms/step - loss: 0.2151 - accuracy: 0.9288 - val_loss: 0.6365 - val_accuracy: 0.8914\n",
            "Epoch 49/500\n",
            "375/375 [==============================] - 7s 18ms/step - loss: 0.2110 - accuracy: 0.9272 - val_loss: 0.5671 - val_accuracy: 0.8919\n",
            "Epoch 50/500\n",
            "375/375 [==============================] - 7s 18ms/step - loss: 0.2151 - accuracy: 0.9284 - val_loss: 0.5398 - val_accuracy: 0.8998\n",
            "Epoch 51/500\n",
            "375/375 [==============================] - 7s 17ms/step - loss: 0.2055 - accuracy: 0.9301 - val_loss: 0.5550 - val_accuracy: 0.8945\n",
            "Epoch 52/500\n",
            "375/375 [==============================] - 7s 17ms/step - loss: 0.2092 - accuracy: 0.9273 - val_loss: 0.6062 - val_accuracy: 0.8928\n",
            "Epoch 53/500\n",
            "375/375 [==============================] - 7s 17ms/step - loss: 0.2006 - accuracy: 0.9310 - val_loss: 0.6048 - val_accuracy: 0.8964\n",
            "Epoch 54/500\n",
            "375/375 [==============================] - 6s 17ms/step - loss: 0.2051 - accuracy: 0.9321 - val_loss: 0.6522 - val_accuracy: 0.8909\n",
            "Epoch 55/500\n",
            "375/375 [==============================] - 6s 17ms/step - loss: 0.2069 - accuracy: 0.9320 - val_loss: 0.6340 - val_accuracy: 0.8913\n",
            "Epoch 56/500\n",
            "375/375 [==============================] - 6s 17ms/step - loss: 0.2052 - accuracy: 0.9326 - val_loss: 0.5722 - val_accuracy: 0.8983\n",
            "Epoch 57/500\n",
            "375/375 [==============================] - 6s 17ms/step - loss: 0.1985 - accuracy: 0.9325 - val_loss: 0.6686 - val_accuracy: 0.8915\n",
            "Epoch 58/500\n",
            "375/375 [==============================] - 6s 17ms/step - loss: 0.2001 - accuracy: 0.9334 - val_loss: 0.6430 - val_accuracy: 0.8939\n",
            "Epoch 59/500\n",
            "375/375 [==============================] - 6s 17ms/step - loss: 0.2017 - accuracy: 0.9323 - val_loss: 0.6233 - val_accuracy: 0.8992\n",
            "Epoch 60/500\n",
            "375/375 [==============================] - 6s 17ms/step - loss: 0.1968 - accuracy: 0.9344 - val_loss: 0.6775 - val_accuracy: 0.8854\n",
            "Epoch 61/500\n",
            "375/375 [==============================] - 6s 17ms/step - loss: 0.1986 - accuracy: 0.9335 - val_loss: 0.6414 - val_accuracy: 0.8965\n",
            "Epoch 62/500\n",
            "375/375 [==============================] - 7s 18ms/step - loss: 0.1996 - accuracy: 0.9339 - val_loss: 0.6758 - val_accuracy: 0.8963\n",
            "Epoch 63/500\n",
            "375/375 [==============================] - 7s 17ms/step - loss: 0.2008 - accuracy: 0.9343 - val_loss: 0.7066 - val_accuracy: 0.8956\n",
            "Epoch 64/500\n",
            "375/375 [==============================] - 6s 17ms/step - loss: 0.1906 - accuracy: 0.9350 - val_loss: 0.6711 - val_accuracy: 0.8948\n",
            "Epoch 65/500\n",
            "375/375 [==============================] - 6s 17ms/step - loss: 0.1979 - accuracy: 0.9348 - val_loss: 0.6923 - val_accuracy: 0.8978\n",
            "Epoch 66/500\n",
            "375/375 [==============================] - 6s 17ms/step - loss: 0.1928 - accuracy: 0.9361 - val_loss: 0.7015 - val_accuracy: 0.8965\n",
            "Epoch 67/500\n",
            "375/375 [==============================] - 6s 17ms/step - loss: 0.1971 - accuracy: 0.9354 - val_loss: 0.7449 - val_accuracy: 0.8889\n",
            "Epoch 68/500\n",
            "375/375 [==============================] - 6s 17ms/step - loss: 0.1997 - accuracy: 0.9339 - val_loss: 0.7066 - val_accuracy: 0.8948\n",
            "Epoch 69/500\n",
            "375/375 [==============================] - 7s 17ms/step - loss: 0.1890 - accuracy: 0.9376 - val_loss: 0.6724 - val_accuracy: 0.8951\n",
            "Epoch 70/500\n",
            "375/375 [==============================] - 6s 17ms/step - loss: 0.1902 - accuracy: 0.9383 - val_loss: 0.8212 - val_accuracy: 0.8929\n",
            "Epoch 71/500\n",
            "375/375 [==============================] - 6s 17ms/step - loss: 0.1919 - accuracy: 0.9383 - val_loss: 0.8164 - val_accuracy: 0.8946\n",
            "Epoch 72/500\n",
            "375/375 [==============================] - 6s 17ms/step - loss: 0.1947 - accuracy: 0.9379 - val_loss: 0.7346 - val_accuracy: 0.8925\n",
            "Epoch 73/500\n",
            "375/375 [==============================] - 7s 17ms/step - loss: 0.1882 - accuracy: 0.9357 - val_loss: 0.7873 - val_accuracy: 0.8957\n",
            "Epoch 74/500\n",
            "375/375 [==============================] - 7s 17ms/step - loss: 0.1893 - accuracy: 0.9390 - val_loss: 0.7218 - val_accuracy: 0.8911\n",
            "Epoch 75/500\n",
            "375/375 [==============================] - 6s 17ms/step - loss: 0.1858 - accuracy: 0.9411 - val_loss: 0.8496 - val_accuracy: 0.8939\n",
            "Epoch 76/500\n",
            "375/375 [==============================] - 6s 17ms/step - loss: 0.1872 - accuracy: 0.9393 - val_loss: 0.8412 - val_accuracy: 0.8948\n",
            "Epoch 77/500\n",
            "375/375 [==============================] - 6s 17ms/step - loss: 0.1887 - accuracy: 0.9385 - val_loss: 0.8669 - val_accuracy: 0.8895\n",
            "Epoch 78/500\n",
            "375/375 [==============================] - 6s 17ms/step - loss: 0.1905 - accuracy: 0.9397 - val_loss: 0.7909 - val_accuracy: 0.8969\n",
            "Epoch 79/500\n",
            "375/375 [==============================] - 6s 17ms/step - loss: 0.1869 - accuracy: 0.9394 - val_loss: 0.8580 - val_accuracy: 0.8958\n",
            "Epoch 80/500\n",
            "375/375 [==============================] - 6s 17ms/step - loss: 0.1867 - accuracy: 0.9395 - val_loss: 0.8819 - val_accuracy: 0.8895\n",
            "Epoch 81/500\n",
            "375/375 [==============================] - 7s 17ms/step - loss: 0.1822 - accuracy: 0.9395 - val_loss: 0.7775 - val_accuracy: 0.8938\n",
            "Epoch 82/500\n",
            "375/375 [==============================] - 7s 17ms/step - loss: 0.1812 - accuracy: 0.9408 - val_loss: 0.7591 - val_accuracy: 0.8947\n",
            "Epoch 83/500\n",
            "375/375 [==============================] - 7s 17ms/step - loss: 0.1758 - accuracy: 0.9423 - val_loss: 0.8068 - val_accuracy: 0.8988\n",
            "Epoch 84/500\n",
            "375/375 [==============================] - 6s 17ms/step - loss: 0.1816 - accuracy: 0.9424 - val_loss: 0.8751 - val_accuracy: 0.8950\n",
            "Epoch 85/500\n",
            "375/375 [==============================] - 6s 17ms/step - loss: 0.1800 - accuracy: 0.9432 - val_loss: 0.8535 - val_accuracy: 0.8942\n",
            "Epoch 86/500\n",
            "375/375 [==============================] - 7s 17ms/step - loss: 0.1817 - accuracy: 0.9423 - val_loss: 0.8618 - val_accuracy: 0.8969\n",
            "Epoch 87/500\n",
            "375/375 [==============================] - 6s 17ms/step - loss: 0.1790 - accuracy: 0.9414 - val_loss: 0.9832 - val_accuracy: 0.8928\n",
            "Epoch 88/500\n",
            "375/375 [==============================] - 7s 17ms/step - loss: 0.1829 - accuracy: 0.9422 - val_loss: 0.8034 - val_accuracy: 0.8973\n",
            "Epoch 89/500\n",
            "375/375 [==============================] - 7s 18ms/step - loss: 0.1743 - accuracy: 0.9421 - val_loss: 0.9447 - val_accuracy: 0.8921\n",
            "Epoch 90/500\n",
            "375/375 [==============================] - 6s 17ms/step - loss: 0.1889 - accuracy: 0.9413 - val_loss: 0.8342 - val_accuracy: 0.8968\n",
            "Epoch 91/500\n",
            "375/375 [==============================] - 7s 18ms/step - loss: 0.1771 - accuracy: 0.9431 - val_loss: 0.8809 - val_accuracy: 0.8874\n",
            "Epoch 92/500\n",
            "375/375 [==============================] - 7s 18ms/step - loss: 0.1788 - accuracy: 0.9444 - val_loss: 0.8531 - val_accuracy: 0.8953\n",
            "Epoch 93/500\n",
            "375/375 [==============================] - 7s 18ms/step - loss: 0.1664 - accuracy: 0.9458 - val_loss: 0.8864 - val_accuracy: 0.8938\n",
            "Epoch 94/500\n",
            "375/375 [==============================] - 7s 18ms/step - loss: 0.1706 - accuracy: 0.9438 - val_loss: 0.9752 - val_accuracy: 0.8979\n",
            "Epoch 95/500\n",
            "375/375 [==============================] - 7s 18ms/step - loss: 0.1773 - accuracy: 0.9438 - val_loss: 0.9097 - val_accuracy: 0.8973\n",
            "Epoch 96/500\n",
            "375/375 [==============================] - 7s 18ms/step - loss: 0.1779 - accuracy: 0.9438 - val_loss: 0.9277 - val_accuracy: 0.8885\n",
            "Epoch 97/500\n",
            "375/375 [==============================] - 7s 18ms/step - loss: 0.1696 - accuracy: 0.9449 - val_loss: 0.8808 - val_accuracy: 0.8951\n",
            "Epoch 98/500\n",
            "375/375 [==============================] - 7s 18ms/step - loss: 0.1701 - accuracy: 0.9454 - val_loss: 0.9578 - val_accuracy: 0.8998\n",
            "Epoch 99/500\n",
            "375/375 [==============================] - 7s 18ms/step - loss: 0.1813 - accuracy: 0.9446 - val_loss: 0.9018 - val_accuracy: 0.8966\n",
            "Epoch 100/500\n",
            "375/375 [==============================] - 7s 17ms/step - loss: 0.1690 - accuracy: 0.9477 - val_loss: 0.9962 - val_accuracy: 0.8949\n",
            "Epoch 101/500\n",
            "375/375 [==============================] - 7s 18ms/step - loss: 0.1771 - accuracy: 0.9457 - val_loss: 1.0496 - val_accuracy: 0.8866\n",
            "Epoch 102/500\n",
            "375/375 [==============================] - 6s 17ms/step - loss: 0.1787 - accuracy: 0.9471 - val_loss: 0.9199 - val_accuracy: 0.8975\n",
            "Epoch 103/500\n",
            "375/375 [==============================] - 6s 17ms/step - loss: 0.1633 - accuracy: 0.9466 - val_loss: 1.0605 - val_accuracy: 0.8963\n",
            "Epoch 104/500\n",
            "375/375 [==============================] - 6s 17ms/step - loss: 0.1794 - accuracy: 0.9452 - val_loss: 0.8395 - val_accuracy: 0.8990\n",
            "Epoch 105/500\n",
            "375/375 [==============================] - 6s 17ms/step - loss: 0.1782 - accuracy: 0.9461 - val_loss: 0.9421 - val_accuracy: 0.8969\n",
            "Epoch 106/500\n",
            "375/375 [==============================] - 7s 17ms/step - loss: 0.1676 - accuracy: 0.9457 - val_loss: 0.9340 - val_accuracy: 0.8981\n",
            "Epoch 107/500\n",
            "375/375 [==============================] - 6s 17ms/step - loss: 0.1686 - accuracy: 0.9457 - val_loss: 1.0117 - val_accuracy: 0.8950\n",
            "Epoch 108/500\n",
            "375/375 [==============================] - 7s 17ms/step - loss: 0.1693 - accuracy: 0.9466 - val_loss: 0.9164 - val_accuracy: 0.8951\n"
          ]
        }
      ]
    },
    {
      "cell_type": "code",
      "source": [
        "#đánh giá chất lượng của mô hình và vẽ lại\n",
        "score = model.evaluate(x_test,y_test,verbose=0)\n",
        "print('Sai số kiểm tra là: ',score[0])\n",
        "print('Độ chính xác kiểm tra là: ',score[1])\n",
        "#vẽ đồ thị\n",
        "plt.plot(history.history['accuracy'])\n",
        "plt.plot(history.history['val_accuracy'])\n",
        "plt.title('model accuracy')\n",
        "plt.ylabel('accuracy')\n",
        "plt.xlabel('epochs')\n",
        "plt.legend(['train','Validation'])\n",
        "plt.show()"
      ],
      "metadata": {
        "colab": {
          "base_uri": "https://localhost:8080/",
          "height": 330
        },
        "id": "vTUGmu-dnI0T",
        "outputId": "93ddbfb7-ee14-410a-df27-504e467547b1"
      },
      "execution_count": null,
      "outputs": [
        {
          "output_type": "stream",
          "name": "stdout",
          "text": [
            "Sai số kiểm tra là:  1.0768959522247314\n",
            "Độ chính xác kiểm tra là:  0.8903999924659729\n"
          ]
        },
        {
          "output_type": "display_data",
          "data": {
            "text/plain": [
              "<Figure size 432x288 with 1 Axes>"
            ],
            "image/png": "[encoded data removed]"
          },
          "metadata": {
            "needs_background": "light"
          }
        }
      ]
    },
    {
      "cell_type": "code",
      "source": [
        ""
      ],
      "metadata": {
        "id": "-AVP_EYQ0sEb"
      },
      "execution_count": null,
      "outputs": []
    }
  ]
}