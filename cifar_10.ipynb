{
  "nbformat": 4,
  "nbformat_minor": 0,
  "metadata": {
    "colab": {
      "name": "cifar_10.ipynb",
      "provenance": [],
      "include_colab_link": true
    },
    "kernelspec": {
      "name": "python3",
      "display_name": "Python 3"
    },
    "language_info": {
      "name": "python"
    }
  },
  "cells": [
    {
      "cell_type": "markdown",
      "metadata": {
        "id": "view-in-github",
        "colab_type": "text"
      },
      "source": [
        "<a href=\"https://colab.research.google.com/github/nguyentanphat2210/Bai-/blob/cifar/cifar_10.ipynb\" target=\"_parent\"><img src=\"https://colab.research.google.com/assets/colab-badge.svg\" alt=\"Open In Colab\"/></a>"
      ]
    },
    {
      "cell_type": "code",
      "execution_count": null,
      "metadata": {
        "id": "5s4Lj2SqnQdY"
      },
      "outputs": [],
      "source": [
        "#import thư viện\n",
        "import numpy as np #thư viện xử lý ma trận\n",
        "from keras.utils import np_utils # thư viện xử lý chuyển class\n",
        "from keras.datasets import cifar10 # gọi tập dataset động vật, máy bay \n",
        "from keras.models import Sequential # hàm chạy mô hình\n",
        "from keras.layers import Dense, Dropout # tạo mạng nơ ron\n",
        "from tensorflow.keras.optimizers import RMSprop \n",
        "import matplotlib.pyplot as plt  # thư viện dùng để vẽ\n",
        "from keras.backend import dropout"
      ]
    },
    {
      "cell_type": "code",
      "source": [
        "# chia tập dữ liệu thành 2 bộ train và test\n",
        "(x_train, y_train),(x_test,y_test) = cifar10.load_data()"
      ],
      "metadata": {
        "id": "KDE1I3B8c_3X",
        "outputId": "f2fd95da-7ebf-49af-c852-7ed2489540c0",
        "colab": {
          "base_uri": "https://localhost:8080/"
        }
      },
      "execution_count": null,
      "outputs": [
        {
          "output_type": "stream",
          "name": "stdout",
          "text": [
            "Downloading data from https://www.cs.toronto.edu/~kriz/cifar-10-python.tar.gz\n",
            "170500096/170498071 [==============================] - 2s 0us/step\n",
            "170508288/170498071 [==============================] - 2s 0us/step\n"
          ]
        }
      ]
    },
    {
      "cell_type": "code",
      "source": [
        "# xem kích thược của tập dữ liệu\n",
        "print('Kích thước x_train: ', x_train.shape)\n",
        "print('Kích thước y_train: ', y_train.shape)\n",
        "print('Kích thước x_test: ', x_test.shape)\n",
        "print('Kích thước y_test: ', y_test.shape)"
      ],
      "metadata": {
        "colab": {
          "base_uri": "https://localhost:8080/"
        },
        "id": "6Sg4o3R-n787",
        "outputId": "d75e9b67-c317-4ef3-dec6-c73ac56f109b"
      },
      "execution_count": null,
      "outputs": [
        {
          "output_type": "stream",
          "name": "stdout",
          "text": [
            "Kích thước x_train:  (50000, 32, 32, 3)\n",
            "Kích thước y_train:  (50000, 1)\n",
            "Kích thước x_test:  (10000, 32, 32, 3)\n",
            "Kích thước y_test:  (10000, 1)\n"
          ]
        }
      ]
    },
    {
      "cell_type": "code",
      "source": [
        "#chuyển chiều của x từ 3 chiều về 2 chiều VÌ cifar10 ở đầu vào có 4 chiều để chuyển về\n",
        "# 2 chiều bằng cách 32*32*3=3072\n",
        "x_train = x_train.reshape(50000,3072)\n",
        "x_test = x_test.reshape(10000,3072)\n",
        "# ép kiểu\n",
        "x_train = x_train.astype('float32')\n",
        "x_test = x_test.astype('float32')\n",
        "#chuẩn hóa dữ liệu\n",
        "x_train /=255\n",
        "x_test /=255\n",
        "#chuyển y từ 1 class thành 10 class\n",
        "y_train = np_utils.to_categorical(y_train,10)\n",
        "y_test = np_utils.to_categorical(y_test,10)"
      ],
      "metadata": {
        "id": "m2piqLiGn-Au"
      },
      "execution_count": null,
      "outputs": []
    },
    {
      "cell_type": "code",
      "source": [
        "#tạo mạng nơ-ron\n",
        "model = Sequential()\n",
        "model.add(Dense(512,activation='relu',input_shape=(3072,)))\n",
        "model.add(Dropout(0.2))\n",
        "model.add(Dense(512,activation='relu'))\n",
        "model.add(Dropout(0.2))\n",
        "model.add(Dense(10,activation='softmax'))\n",
        "\n",
        "model.summary()"
      ],
      "metadata": {
        "colab": {
          "base_uri": "https://localhost:8080/"
        },
        "id": "hOFBLXnFoLf_",
        "outputId": "66daea00-b917-4528-d168-d75031b20d2c"
      },
      "execution_count": null,
      "outputs": [
        {
          "output_type": "stream",
          "name": "stdout",
          "text": [
            "Model: \"sequential\"\n",
            "_________________________________________________________________\n",
            " Layer (type)                Output Shape              Param #   \n",
            "=================================================================\n",
            " dense (Dense)               (None, 512)               1573376   \n",
            "                                                                 \n",
            " dropout (Dropout)           (None, 512)               0         \n",
            "                                                                 \n",
            " dense_1 (Dense)             (None, 512)               262656    \n",
            "                                                                 \n",
            " dropout_1 (Dropout)         (None, 512)               0         \n",
            "                                                                 \n",
            " dense_2 (Dense)             (None, 10)                5130      \n",
            "                                                                 \n",
            "=================================================================\n",
            "Total params: 1,841,162\n",
            "Trainable params: 1,841,162\n",
            "Non-trainable params: 0\n",
            "_________________________________________________________________\n"
          ]
        }
      ]
    },
    {
      "cell_type": "code",
      "source": [
        "#chạy model với số lần học là 500 và độ kiên nhẫn là 100\n",
        "model.compile(loss='categorical_crossentropy',optimizer=RMSprop(), metrics=['accuracy'])\n",
        "model.compile(loss='categorical_crossentropy',optimizer=RMSprop(), metrics=['accuracy'])\n",
        "from keras.callbacks import EarlyStopping\n",
        "history = model.fit(x_train,y_train,batch_size=128,epochs=500,verbose=1,\n",
        "                    validation_split=0.2,callbacks=[EarlyStopping(monitor='val_loss',patience=100)])"
      ],
      "metadata": {
        "colab": {
          "base_uri": "https://localhost:8080/"
        },
        "id": "64rKl6whoPUb",
        "outputId": "48e3c454-816d-4378-ac57-09a7471938d0"
      },
      "execution_count": null,
      "outputs": [
        {
          "output_type": "stream",
          "name": "stdout",
          "text": [
            "Epoch 1/500\n",
            "313/313 [==============================] - 19s 54ms/step - loss: 2.2027 - accuracy: 0.2381 - val_loss: 2.0011 - val_accuracy: 0.2529\n",
            "Epoch 2/500\n",
            "313/313 [==============================] - 12s 40ms/step - loss: 1.8793 - accuracy: 0.3206 - val_loss: 1.7677 - val_accuracy: 0.3662\n",
            "Epoch 3/500\n",
            "313/313 [==============================] - 12s 39ms/step - loss: 1.7980 - accuracy: 0.3525 - val_loss: 1.7508 - val_accuracy: 0.3811\n",
            "Epoch 4/500\n",
            "313/313 [==============================] - 12s 39ms/step - loss: 1.7484 - accuracy: 0.3736 - val_loss: 1.7075 - val_accuracy: 0.3858\n",
            "Epoch 5/500\n",
            "313/313 [==============================] - 12s 39ms/step - loss: 1.7149 - accuracy: 0.3841 - val_loss: 1.6827 - val_accuracy: 0.4044\n",
            "Epoch 6/500\n",
            "313/313 [==============================] - 12s 40ms/step - loss: 1.6829 - accuracy: 0.3948 - val_loss: 1.6538 - val_accuracy: 0.4044\n",
            "Epoch 7/500\n",
            "313/313 [==============================] - 12s 40ms/step - loss: 1.6589 - accuracy: 0.4075 - val_loss: 1.6611 - val_accuracy: 0.4076\n",
            "Epoch 8/500\n",
            "313/313 [==============================] - 13s 41ms/step - loss: 1.6437 - accuracy: 0.4114 - val_loss: 1.6181 - val_accuracy: 0.4243\n",
            "Epoch 9/500\n",
            "313/313 [==============================] - 14s 46ms/step - loss: 1.6263 - accuracy: 0.4192 - val_loss: 1.5869 - val_accuracy: 0.4442\n",
            "Epoch 10/500\n",
            "313/313 [==============================] - 13s 40ms/step - loss: 1.6040 - accuracy: 0.4248 - val_loss: 1.6313 - val_accuracy: 0.4183\n",
            "Epoch 11/500\n",
            "313/313 [==============================] - 13s 40ms/step - loss: 1.5899 - accuracy: 0.4328 - val_loss: 1.5892 - val_accuracy: 0.4463\n",
            "Epoch 12/500\n",
            "313/313 [==============================] - 13s 40ms/step - loss: 1.5722 - accuracy: 0.4373 - val_loss: 1.6197 - val_accuracy: 0.4207\n",
            "Epoch 13/500\n",
            "313/313 [==============================] - 12s 40ms/step - loss: 1.5614 - accuracy: 0.4434 - val_loss: 1.5880 - val_accuracy: 0.4300\n",
            "Epoch 14/500\n",
            "313/313 [==============================] - 12s 40ms/step - loss: 1.5606 - accuracy: 0.4423 - val_loss: 1.5873 - val_accuracy: 0.4434\n",
            "Epoch 15/500\n",
            "313/313 [==============================] - 13s 40ms/step - loss: 1.5447 - accuracy: 0.4462 - val_loss: 1.5831 - val_accuracy: 0.4473\n",
            "Epoch 16/500\n",
            "313/313 [==============================] - 12s 40ms/step - loss: 1.5353 - accuracy: 0.4528 - val_loss: 1.5252 - val_accuracy: 0.4631\n",
            "Epoch 17/500\n",
            "313/313 [==============================] - 12s 40ms/step - loss: 1.5283 - accuracy: 0.4547 - val_loss: 1.5581 - val_accuracy: 0.4482\n",
            "Epoch 18/500\n",
            "313/313 [==============================] - 13s 40ms/step - loss: 1.5157 - accuracy: 0.4577 - val_loss: 1.6192 - val_accuracy: 0.4233\n",
            "Epoch 19/500\n",
            "313/313 [==============================] - 13s 40ms/step - loss: 1.5148 - accuracy: 0.4593 - val_loss: 1.5525 - val_accuracy: 0.4537\n",
            "Epoch 20/500\n",
            "313/313 [==============================] - 13s 40ms/step - loss: 1.5037 - accuracy: 0.4625 - val_loss: 1.5432 - val_accuracy: 0.4539\n",
            "Epoch 21/500\n",
            "313/313 [==============================] - 12s 40ms/step - loss: 1.5031 - accuracy: 0.4619 - val_loss: 1.6132 - val_accuracy: 0.4237\n",
            "Epoch 22/500\n",
            "313/313 [==============================] - 13s 40ms/step - loss: 1.4951 - accuracy: 0.4666 - val_loss: 1.5205 - val_accuracy: 0.4658\n",
            "Epoch 23/500\n",
            "313/313 [==============================] - 13s 40ms/step - loss: 1.4890 - accuracy: 0.4697 - val_loss: 1.6134 - val_accuracy: 0.4403\n",
            "Epoch 24/500\n",
            "313/313 [==============================] - 13s 40ms/step - loss: 1.4817 - accuracy: 0.4710 - val_loss: 1.5872 - val_accuracy: 0.4453\n",
            "Epoch 25/500\n",
            "313/313 [==============================] - 13s 40ms/step - loss: 1.4786 - accuracy: 0.4738 - val_loss: 1.5149 - val_accuracy: 0.4638\n",
            "Epoch 26/500\n",
            "313/313 [==============================] - 13s 40ms/step - loss: 1.4752 - accuracy: 0.4757 - val_loss: 1.6043 - val_accuracy: 0.4236\n",
            "Epoch 27/500\n",
            "313/313 [==============================] - 13s 40ms/step - loss: 1.4644 - accuracy: 0.4780 - val_loss: 1.5138 - val_accuracy: 0.4659\n",
            "Epoch 28/500\n",
            "313/313 [==============================] - 13s 40ms/step - loss: 1.4629 - accuracy: 0.4794 - val_loss: 1.5033 - val_accuracy: 0.4823\n",
            "Epoch 29/500\n",
            "313/313 [==============================] - 13s 40ms/step - loss: 1.4619 - accuracy: 0.4793 - val_loss: 1.5251 - val_accuracy: 0.4607\n",
            "Epoch 30/500\n",
            "313/313 [==============================] - 12s 40ms/step - loss: 1.4525 - accuracy: 0.4839 - val_loss: 1.5821 - val_accuracy: 0.4514\n",
            "Epoch 31/500\n",
            "313/313 [==============================] - 13s 40ms/step - loss: 1.4509 - accuracy: 0.4848 - val_loss: 1.5143 - val_accuracy: 0.4721\n",
            "Epoch 32/500\n",
            "313/313 [==============================] - 12s 40ms/step - loss: 1.4492 - accuracy: 0.4825 - val_loss: 1.5242 - val_accuracy: 0.4650\n",
            "Epoch 33/500\n",
            "313/313 [==============================] - 13s 40ms/step - loss: 1.4420 - accuracy: 0.4852 - val_loss: 1.5405 - val_accuracy: 0.4575\n",
            "Epoch 34/500\n",
            "313/313 [==============================] - 13s 40ms/step - loss: 1.4366 - accuracy: 0.4928 - val_loss: 1.5212 - val_accuracy: 0.4700\n",
            "Epoch 35/500\n",
            "313/313 [==============================] - 12s 40ms/step - loss: 1.4342 - accuracy: 0.4926 - val_loss: 1.4953 - val_accuracy: 0.4731\n",
            "Epoch 36/500\n",
            "313/313 [==============================] - 13s 40ms/step - loss: 1.4316 - accuracy: 0.4909 - val_loss: 1.5336 - val_accuracy: 0.4640\n",
            "Epoch 37/500\n",
            "313/313 [==============================] - 13s 40ms/step - loss: 1.4324 - accuracy: 0.4927 - val_loss: 1.5118 - val_accuracy: 0.4720\n",
            "Epoch 38/500\n",
            "313/313 [==============================] - 13s 41ms/step - loss: 1.4249 - accuracy: 0.4981 - val_loss: 1.5207 - val_accuracy: 0.4714\n",
            "Epoch 39/500\n",
            "313/313 [==============================] - 13s 40ms/step - loss: 1.4277 - accuracy: 0.4926 - val_loss: 1.5278 - val_accuracy: 0.4647\n",
            "Epoch 40/500\n",
            "313/313 [==============================] - 13s 40ms/step - loss: 1.4209 - accuracy: 0.4954 - val_loss: 1.4844 - val_accuracy: 0.4881\n",
            "Epoch 41/500\n",
            "313/313 [==============================] - 13s 40ms/step - loss: 1.4236 - accuracy: 0.4950 - val_loss: 1.5179 - val_accuracy: 0.4814\n",
            "Epoch 42/500\n",
            "313/313 [==============================] - 13s 40ms/step - loss: 1.4148 - accuracy: 0.4985 - val_loss: 1.5282 - val_accuracy: 0.4634\n",
            "Epoch 43/500\n",
            "313/313 [==============================] - 13s 40ms/step - loss: 1.4233 - accuracy: 0.4978 - val_loss: 1.5433 - val_accuracy: 0.4616\n",
            "Epoch 44/500\n",
            "313/313 [==============================] - 13s 40ms/step - loss: 1.4130 - accuracy: 0.4974 - val_loss: 1.5546 - val_accuracy: 0.4620\n",
            "Epoch 45/500\n",
            "313/313 [==============================] - 13s 40ms/step - loss: 1.4030 - accuracy: 0.5020 - val_loss: 1.5157 - val_accuracy: 0.4821\n",
            "Epoch 46/500\n",
            "313/313 [==============================] - 13s 40ms/step - loss: 1.4046 - accuracy: 0.5018 - val_loss: 1.5229 - val_accuracy: 0.4716\n",
            "Epoch 47/500\n",
            "313/313 [==============================] - 13s 40ms/step - loss: 1.4003 - accuracy: 0.5043 - val_loss: 1.5105 - val_accuracy: 0.4844\n",
            "Epoch 48/500\n",
            "313/313 [==============================] - 13s 41ms/step - loss: 1.4001 - accuracy: 0.5022 - val_loss: 1.5333 - val_accuracy: 0.4666\n",
            "Epoch 49/500\n",
            "313/313 [==============================] - 13s 40ms/step - loss: 1.3970 - accuracy: 0.5044 - val_loss: 1.5030 - val_accuracy: 0.4854\n",
            "Epoch 50/500\n",
            "313/313 [==============================] - 13s 40ms/step - loss: 1.3909 - accuracy: 0.5062 - val_loss: 1.5643 - val_accuracy: 0.4730\n",
            "Epoch 51/500\n",
            "313/313 [==============================] - 13s 40ms/step - loss: 1.3938 - accuracy: 0.5100 - val_loss: 1.6002 - val_accuracy: 0.4407\n",
            "Epoch 52/500\n",
            "313/313 [==============================] - 13s 40ms/step - loss: 1.3897 - accuracy: 0.5059 - val_loss: 1.5088 - val_accuracy: 0.4850\n",
            "Epoch 53/500\n",
            "313/313 [==============================] - 12s 40ms/step - loss: 1.3906 - accuracy: 0.5096 - val_loss: 1.6471 - val_accuracy: 0.4385\n",
            "Epoch 54/500\n",
            "313/313 [==============================] - 12s 40ms/step - loss: 1.3878 - accuracy: 0.5098 - val_loss: 1.5108 - val_accuracy: 0.4683\n",
            "Epoch 55/500\n",
            "313/313 [==============================] - 13s 40ms/step - loss: 1.3852 - accuracy: 0.5070 - val_loss: 1.5115 - val_accuracy: 0.4768\n",
            "Epoch 56/500\n",
            "313/313 [==============================] - 13s 40ms/step - loss: 1.3827 - accuracy: 0.5097 - val_loss: 1.5643 - val_accuracy: 0.4730\n",
            "Epoch 57/500\n",
            "313/313 [==============================] - 13s 40ms/step - loss: 1.3794 - accuracy: 0.5130 - val_loss: 1.4979 - val_accuracy: 0.4742\n",
            "Epoch 58/500\n",
            "313/313 [==============================] - 13s 40ms/step - loss: 1.3736 - accuracy: 0.5162 - val_loss: 1.6579 - val_accuracy: 0.4478\n",
            "Epoch 59/500\n",
            "313/313 [==============================] - 13s 40ms/step - loss: 1.3835 - accuracy: 0.5108 - val_loss: 1.5316 - val_accuracy: 0.4614\n",
            "Epoch 60/500\n",
            "313/313 [==============================] - 13s 40ms/step - loss: 1.3760 - accuracy: 0.5146 - val_loss: 1.6292 - val_accuracy: 0.4630\n",
            "Epoch 61/500\n",
            "313/313 [==============================] - 12s 40ms/step - loss: 1.3718 - accuracy: 0.5146 - val_loss: 1.6715 - val_accuracy: 0.4288\n",
            "Epoch 62/500\n",
            "313/313 [==============================] - 13s 40ms/step - loss: 1.3758 - accuracy: 0.5157 - val_loss: 1.5134 - val_accuracy: 0.4953\n",
            "Epoch 63/500\n",
            "313/313 [==============================] - 13s 40ms/step - loss: 1.3657 - accuracy: 0.5160 - val_loss: 1.5852 - val_accuracy: 0.4645\n",
            "Epoch 64/500\n",
            "313/313 [==============================] - 13s 41ms/step - loss: 1.3670 - accuracy: 0.5165 - val_loss: 1.5139 - val_accuracy: 0.4815\n",
            "Epoch 65/500\n",
            "313/313 [==============================] - 13s 41ms/step - loss: 1.3658 - accuracy: 0.5202 - val_loss: 1.5282 - val_accuracy: 0.4741\n",
            "Epoch 66/500\n",
            "313/313 [==============================] - 13s 41ms/step - loss: 1.3697 - accuracy: 0.5161 - val_loss: 1.5515 - val_accuracy: 0.4674\n",
            "Epoch 67/500\n",
            "313/313 [==============================] - 13s 41ms/step - loss: 1.3655 - accuracy: 0.5197 - val_loss: 1.5578 - val_accuracy: 0.4740\n",
            "Epoch 68/500\n",
            "313/313 [==============================] - 13s 41ms/step - loss: 1.3672 - accuracy: 0.5165 - val_loss: 1.5211 - val_accuracy: 0.4850\n",
            "Epoch 69/500\n",
            "313/313 [==============================] - 13s 41ms/step - loss: 1.3699 - accuracy: 0.5148 - val_loss: 1.5300 - val_accuracy: 0.4843\n",
            "Epoch 70/500\n",
            "313/313 [==============================] - 13s 41ms/step - loss: 1.3632 - accuracy: 0.5202 - val_loss: 1.5233 - val_accuracy: 0.4934\n",
            "Epoch 71/500\n",
            "313/313 [==============================] - 13s 40ms/step - loss: 1.3569 - accuracy: 0.5218 - val_loss: 1.5468 - val_accuracy: 0.4682\n",
            "Epoch 72/500\n",
            "313/313 [==============================] - 13s 41ms/step - loss: 1.3554 - accuracy: 0.5209 - val_loss: 1.6690 - val_accuracy: 0.4533\n",
            "Epoch 73/500\n",
            "313/313 [==============================] - 13s 40ms/step - loss: 1.3664 - accuracy: 0.5185 - val_loss: 1.5291 - val_accuracy: 0.4682\n",
            "Epoch 74/500\n",
            "313/313 [==============================] - 13s 40ms/step - loss: 1.3585 - accuracy: 0.5212 - val_loss: 1.6102 - val_accuracy: 0.4566\n",
            "Epoch 75/500\n",
            "313/313 [==============================] - 13s 41ms/step - loss: 1.3567 - accuracy: 0.5191 - val_loss: 1.5689 - val_accuracy: 0.4630\n",
            "Epoch 76/500\n",
            "313/313 [==============================] - 13s 40ms/step - loss: 1.3510 - accuracy: 0.5242 - val_loss: 1.5843 - val_accuracy: 0.4684\n",
            "Epoch 77/500\n",
            "313/313 [==============================] - 13s 41ms/step - loss: 1.3588 - accuracy: 0.5203 - val_loss: 1.5671 - val_accuracy: 0.4767\n",
            "Epoch 78/500\n",
            "313/313 [==============================] - 13s 41ms/step - loss: 1.3487 - accuracy: 0.5207 - val_loss: 1.5227 - val_accuracy: 0.4879\n",
            "Epoch 79/500\n",
            "313/313 [==============================] - 13s 40ms/step - loss: 1.3542 - accuracy: 0.5253 - val_loss: 1.5874 - val_accuracy: 0.4617\n",
            "Epoch 80/500\n",
            "313/313 [==============================] - 13s 40ms/step - loss: 1.3510 - accuracy: 0.5270 - val_loss: 1.5045 - val_accuracy: 0.4978\n",
            "Epoch 81/500\n",
            "313/313 [==============================] - 13s 40ms/step - loss: 1.3543 - accuracy: 0.5234 - val_loss: 1.5348 - val_accuracy: 0.4893\n",
            "Epoch 82/500\n",
            "313/313 [==============================] - 13s 40ms/step - loss: 1.3453 - accuracy: 0.5281 - val_loss: 1.6162 - val_accuracy: 0.4556\n",
            "Epoch 83/500\n",
            "313/313 [==============================] - 13s 40ms/step - loss: 1.3543 - accuracy: 0.5257 - val_loss: 1.5393 - val_accuracy: 0.4908\n",
            "Epoch 84/500\n",
            "313/313 [==============================] - 13s 40ms/step - loss: 1.3484 - accuracy: 0.5228 - val_loss: 1.5724 - val_accuracy: 0.4734\n",
            "Epoch 85/500\n",
            "313/313 [==============================] - 13s 40ms/step - loss: 1.3440 - accuracy: 0.5275 - val_loss: 1.5584 - val_accuracy: 0.4700\n",
            "Epoch 86/500\n",
            "313/313 [==============================] - 13s 41ms/step - loss: 1.3381 - accuracy: 0.5286 - val_loss: 1.6023 - val_accuracy: 0.4838\n",
            "Epoch 87/500\n",
            "313/313 [==============================] - 13s 40ms/step - loss: 1.3420 - accuracy: 0.5279 - val_loss: 1.6056 - val_accuracy: 0.4733\n",
            "Epoch 88/500\n",
            "313/313 [==============================] - 13s 40ms/step - loss: 1.3425 - accuracy: 0.5283 - val_loss: 1.6259 - val_accuracy: 0.4669\n",
            "Epoch 89/500\n",
            "313/313 [==============================] - 13s 41ms/step - loss: 1.3458 - accuracy: 0.5287 - val_loss: 1.7261 - val_accuracy: 0.4520\n",
            "Epoch 90/500\n",
            "313/313 [==============================] - 13s 40ms/step - loss: 1.3414 - accuracy: 0.5271 - val_loss: 1.5689 - val_accuracy: 0.4848\n",
            "Epoch 91/500\n",
            "313/313 [==============================] - 13s 41ms/step - loss: 1.3356 - accuracy: 0.5305 - val_loss: 1.5639 - val_accuracy: 0.4662\n",
            "Epoch 92/500\n",
            "313/313 [==============================] - 13s 41ms/step - loss: 1.3302 - accuracy: 0.5315 - val_loss: 1.5771 - val_accuracy: 0.4718\n",
            "Epoch 93/500\n",
            "313/313 [==============================] - 13s 40ms/step - loss: 1.3322 - accuracy: 0.5272 - val_loss: 1.5926 - val_accuracy: 0.4658\n",
            "Epoch 94/500\n",
            "313/313 [==============================] - 13s 41ms/step - loss: 1.3438 - accuracy: 0.5315 - val_loss: 1.5775 - val_accuracy: 0.4724\n",
            "Epoch 95/500\n",
            "313/313 [==============================] - 13s 41ms/step - loss: 1.3279 - accuracy: 0.5318 - val_loss: 1.6009 - val_accuracy: 0.4700\n",
            "Epoch 96/500\n",
            "313/313 [==============================] - 13s 41ms/step - loss: 1.3368 - accuracy: 0.5336 - val_loss: 1.6533 - val_accuracy: 0.4583\n",
            "Epoch 97/500\n",
            "313/313 [==============================] - 13s 41ms/step - loss: 1.3377 - accuracy: 0.5282 - val_loss: 1.5915 - val_accuracy: 0.4796\n",
            "Epoch 98/500\n",
            "313/313 [==============================] - 13s 41ms/step - loss: 1.3407 - accuracy: 0.5279 - val_loss: 1.5651 - val_accuracy: 0.4805\n",
            "Epoch 99/500\n",
            "313/313 [==============================] - 13s 40ms/step - loss: 1.3380 - accuracy: 0.5278 - val_loss: 1.6052 - val_accuracy: 0.4825\n",
            "Epoch 100/500\n",
            "313/313 [==============================] - 13s 40ms/step - loss: 1.3398 - accuracy: 0.5312 - val_loss: 1.5371 - val_accuracy: 0.4823\n",
            "Epoch 101/500\n",
            "313/313 [==============================] - 12s 40ms/step - loss: 1.3351 - accuracy: 0.5337 - val_loss: 1.5798 - val_accuracy: 0.4804\n",
            "Epoch 102/500\n",
            "313/313 [==============================] - 12s 40ms/step - loss: 1.3348 - accuracy: 0.5332 - val_loss: 1.6259 - val_accuracy: 0.4836\n",
            "Epoch 103/500\n",
            "313/313 [==============================] - 13s 40ms/step - loss: 1.3305 - accuracy: 0.5340 - val_loss: 1.5827 - val_accuracy: 0.4809\n",
            "Epoch 104/500\n",
            "313/313 [==============================] - 13s 40ms/step - loss: 1.3356 - accuracy: 0.5310 - val_loss: 1.5348 - val_accuracy: 0.4880\n",
            "Epoch 105/500\n",
            "313/313 [==============================] - 13s 40ms/step - loss: 1.3242 - accuracy: 0.5315 - val_loss: 1.6712 - val_accuracy: 0.4495\n",
            "Epoch 106/500\n",
            "313/313 [==============================] - 13s 41ms/step - loss: 1.3260 - accuracy: 0.5353 - val_loss: 1.5832 - val_accuracy: 0.4804\n",
            "Epoch 107/500\n",
            "313/313 [==============================] - 13s 40ms/step - loss: 1.3291 - accuracy: 0.5353 - val_loss: 1.6577 - val_accuracy: 0.4576\n",
            "Epoch 108/500\n",
            "313/313 [==============================] - 13s 40ms/step - loss: 1.3223 - accuracy: 0.5371 - val_loss: 1.8352 - val_accuracy: 0.4278\n",
            "Epoch 109/500\n",
            "313/313 [==============================] - 13s 40ms/step - loss: 1.3263 - accuracy: 0.5349 - val_loss: 1.6938 - val_accuracy: 0.4276\n",
            "Epoch 110/500\n",
            "313/313 [==============================] - 13s 40ms/step - loss: 1.3300 - accuracy: 0.5364 - val_loss: 1.6043 - val_accuracy: 0.4732\n",
            "Epoch 111/500\n",
            "313/313 [==============================] - 13s 40ms/step - loss: 1.3249 - accuracy: 0.5346 - val_loss: 1.6185 - val_accuracy: 0.4723\n",
            "Epoch 112/500\n",
            "313/313 [==============================] - 13s 40ms/step - loss: 1.3367 - accuracy: 0.5332 - val_loss: 1.5630 - val_accuracy: 0.4686\n",
            "Epoch 113/500\n",
            "313/313 [==============================] - 13s 40ms/step - loss: 1.3244 - accuracy: 0.5351 - val_loss: 1.5740 - val_accuracy: 0.4824\n",
            "Epoch 114/500\n",
            "313/313 [==============================] - 13s 40ms/step - loss: 1.3210 - accuracy: 0.5373 - val_loss: 1.8073 - val_accuracy: 0.4830\n",
            "Epoch 115/500\n",
            "313/313 [==============================] - 13s 40ms/step - loss: 1.3258 - accuracy: 0.5376 - val_loss: 1.6996 - val_accuracy: 0.4737\n",
            "Epoch 116/500\n",
            "313/313 [==============================] - 13s 40ms/step - loss: 1.3365 - accuracy: 0.5325 - val_loss: 1.6240 - val_accuracy: 0.4806\n",
            "Epoch 117/500\n",
            "313/313 [==============================] - 13s 40ms/step - loss: 1.3168 - accuracy: 0.5396 - val_loss: 1.7842 - val_accuracy: 0.4364\n",
            "Epoch 118/500\n",
            "313/313 [==============================] - 13s 40ms/step - loss: 1.3289 - accuracy: 0.5365 - val_loss: 1.6279 - val_accuracy: 0.4769\n",
            "Epoch 119/500\n",
            "313/313 [==============================] - 13s 40ms/step - loss: 1.3161 - accuracy: 0.5362 - val_loss: 1.6798 - val_accuracy: 0.4617\n",
            "Epoch 120/500\n",
            "313/313 [==============================] - 13s 41ms/step - loss: 1.3121 - accuracy: 0.5404 - val_loss: 1.9256 - val_accuracy: 0.4660\n",
            "Epoch 121/500\n",
            "313/313 [==============================] - 13s 40ms/step - loss: 1.3179 - accuracy: 0.5396 - val_loss: 1.6230 - val_accuracy: 0.4778\n",
            "Epoch 122/500\n",
            "313/313 [==============================] - 13s 40ms/step - loss: 1.3209 - accuracy: 0.5381 - val_loss: 1.6956 - val_accuracy: 0.4747\n",
            "Epoch 123/500\n",
            "313/313 [==============================] - 13s 40ms/step - loss: 1.3187 - accuracy: 0.5367 - val_loss: 1.6983 - val_accuracy: 0.4687\n",
            "Epoch 124/500\n",
            "313/313 [==============================] - 13s 40ms/step - loss: 1.3239 - accuracy: 0.5383 - val_loss: 1.8474 - val_accuracy: 0.4451\n",
            "Epoch 125/500\n",
            "313/313 [==============================] - 13s 40ms/step - loss: 1.3179 - accuracy: 0.5405 - val_loss: 1.6619 - val_accuracy: 0.4631\n",
            "Epoch 126/500\n",
            "313/313 [==============================] - 13s 40ms/step - loss: 1.3323 - accuracy: 0.5335 - val_loss: 1.5852 - val_accuracy: 0.4843\n",
            "Epoch 127/500\n",
            "313/313 [==============================] - 13s 40ms/step - loss: 1.3293 - accuracy: 0.5364 - val_loss: 1.6711 - val_accuracy: 0.4757\n",
            "Epoch 128/500\n",
            "313/313 [==============================] - 13s 40ms/step - loss: 1.3226 - accuracy: 0.5388 - val_loss: 1.7221 - val_accuracy: 0.4659\n",
            "Epoch 129/500\n",
            "313/313 [==============================] - 13s 41ms/step - loss: 1.3222 - accuracy: 0.5376 - val_loss: 1.5894 - val_accuracy: 0.4837\n",
            "Epoch 130/500\n",
            "313/313 [==============================] - 13s 41ms/step - loss: 1.3160 - accuracy: 0.5402 - val_loss: 1.6601 - val_accuracy: 0.4719\n",
            "Epoch 131/500\n",
            "313/313 [==============================] - 13s 41ms/step - loss: 1.3194 - accuracy: 0.5376 - val_loss: 1.6983 - val_accuracy: 0.4783\n",
            "Epoch 132/500\n",
            "313/313 [==============================] - 13s 41ms/step - loss: 1.3237 - accuracy: 0.5399 - val_loss: 1.7111 - val_accuracy: 0.4553\n",
            "Epoch 133/500\n",
            "313/313 [==============================] - 13s 41ms/step - loss: 1.3133 - accuracy: 0.5426 - val_loss: 1.6390 - val_accuracy: 0.4813\n",
            "Epoch 134/500\n",
            "313/313 [==============================] - 13s 41ms/step - loss: 1.3209 - accuracy: 0.5382 - val_loss: 1.6610 - val_accuracy: 0.4550\n",
            "Epoch 135/500\n",
            "313/313 [==============================] - 13s 41ms/step - loss: 1.3241 - accuracy: 0.5361 - val_loss: 1.7988 - val_accuracy: 0.4726\n",
            "Epoch 136/500\n",
            "313/313 [==============================] - 13s 41ms/step - loss: 1.3192 - accuracy: 0.5350 - val_loss: 1.7445 - val_accuracy: 0.4746\n",
            "Epoch 137/500\n",
            "313/313 [==============================] - 13s 40ms/step - loss: 1.3106 - accuracy: 0.5429 - val_loss: 1.7218 - val_accuracy: 0.4782\n",
            "Epoch 138/500\n",
            "313/313 [==============================] - 13s 40ms/step - loss: 1.3196 - accuracy: 0.5435 - val_loss: 1.7784 - val_accuracy: 0.4490\n",
            "Epoch 139/500\n",
            "313/313 [==============================] - 13s 40ms/step - loss: 1.3154 - accuracy: 0.5406 - val_loss: 1.6365 - val_accuracy: 0.4693\n",
            "Epoch 140/500\n",
            "313/313 [==============================] - 13s 41ms/step - loss: 1.3113 - accuracy: 0.5388 - val_loss: 1.7430 - val_accuracy: 0.4599\n"
          ]
        }
      ]
    },
    {
      "cell_type": "code",
      "source": [
        "#đánh giá chất lượng của mô hình và vẽ lại\n",
        "score = model.evaluate(x_test,y_test,verbose=0)\n",
        "print('Sai số kiểm tra là: ',score[0])\n",
        "print('Độ chính xác kiểm tra là: ',score[1])\n",
        "#vẽ đồ thị\n",
        "plt.plot(history.history['accuracy'])\n",
        "plt.plot(history.history['val_accuracy'])\n",
        "plt.title('model accuracy')\n",
        "plt.ylabel('accuracy')\n",
        "plt.xlabel('epochs')\n",
        "plt.legend(['train','Validation'])\n",
        "plt.show()"
      ],
      "metadata": {
        "colab": {
          "base_uri": "https://localhost:8080/"
        },
        "id": "keErUnrpoRBM",
        "outputId": "3bd3df77-1af0-4e2e-f707-7e72274da119"
      },
      "execution_count": null,
      "outputs": [
        {
          "output_type": "stream",
          "name": "stdout",
          "text": [
            "Sai số kiểm tra là:  1.677071452140808\n",
            "Độ chính xác kiểm tra là:  0.46140000224113464\n"
          ]
        },
        {
          "output_type": "display_data",
          "data": {
            "text/plain": [
              "<Figure size 432x288 with 1 Axes>"
            ],
            "image/png": "[encoded data removed]"
          },
          "metadata": {
            "needs_background": "light"
          }
        }
      ]
    },
    {
      "cell_type": "code",
      "source": [
        "model.save('cifar10.hs')"
      ],
      "metadata": {
        "id": "i5-BwB8j1MBS",
        "outputId": "30d041b7-a7a4-475d-9dd0-77130fe57c2a",
        "colab": {
          "base_uri": "https://localhost:8080/"
        }
      },
      "execution_count": null,
      "outputs": [
        {
          "output_type": "stream",
          "name": "stdout",
          "text": [
            "INFO:tensorflow:Assets written to: cifar10.hs/assets\n"
          ]
        }
      ]
    }
  ]
}